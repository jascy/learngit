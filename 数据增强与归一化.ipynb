{
 "cells": [
  {
   "cell_type": "markdown",
   "metadata": {},
   "source": [
    "# 图像增强\n",
    "对数据进行扩充，增加数据量和特征的多样性，减少位置、形状对模型训练的影响，使得模型得到充分的训练。"
   ]
  },
  {
   "cell_type": "markdown",
   "metadata": {},
   "source": [
    "医学图像不同于自然图像,医学图像形状为(H,W),需要增添通道C,以变为(H,W,C),其中C=1.\n",
    "自然图像为三通道图像(H,W,C),其中C=3.\n",
    "要想在pytorch框架中进行数据增强操作,需把医学图像转为Image图像,才可进行相对应的操作.\n",
    "使用pytorch框架,把数据转为tensor时,参考\n",
    "https://pytorch.org/docs/stable/_modules/torchvision/transforms/transforms.html\n",
    "https://pytorch.org/docs/stable/_modules/torchvision/transforms/functional.html\n",
    "if isinstance(pic, np.ndarray):\n",
    "        # handle numpy array\n",
    "        img = torch.from_numpy(pic.transpose((2, 0, 1)))#转为Tensor\n",
    "        # backward compatibility\n",
    "        if isinstance(img, torch.ByteTensor):\n",
    "            return img.float().div(255)#除255\n",
    "        else:\n",
    "            return img"
   ]
  },
  {
   "cell_type": "code",
   "execution_count": 1,
   "metadata": {
    "ExecuteTime": {
     "end_time": "2019-01-12T05:50:27.431776Z",
     "start_time": "2019-01-12T05:50:26.974930Z"
    }
   },
   "outputs": [
    {
     "data": {
      "text/plain": [
       "(62, 63)"
      ]
     },
     "execution_count": 1,
     "metadata": {},
     "output_type": "execute_result"
    }
   ],
   "source": [
    "#导入模块\n",
    "import pydicom\n",
    "import numpy as np\n",
    "import cv2\n",
    "import torch\n",
    "#读取医学图像\n",
    "root =\"/home/jascy/桌面/dataprocess/新的DCM格式医学数据/数据增强与扩充/肝细胞癌/zhug_008.dcm\"\n",
    "data = pydicom.read_file(root)\n",
    "data1 = data.pixel_array\n",
    "#查看shape\n",
    "data1.shape"
   ]
  },
  {
   "cell_type": "code",
   "execution_count": 17,
   "metadata": {
    "ExecuteTime": {
     "end_time": "2019-01-12T06:05:42.576983Z",
     "start_time": "2019-01-12T06:05:42.560313Z"
    }
   },
   "outputs": [
    {
     "data": {
      "text/plain": [
       "array([[64795, 64839, 64907, ...,    28,    40,    43],\n",
       "       [64928, 64991, 65066, ...,    42,    44,    31],\n",
       "       [65075, 65153, 65224, ...,    51,    40,    31],\n",
       "       ...,\n",
       "       [   36,    24,    22, ...,    30,    16,     8],\n",
       "       [   29,    25,    16, ...,    17,     3,     6],\n",
       "       [   26,    20,    15, ...,     7,     1,    10]], dtype=uint16)"
      ]
     },
     "execution_count": 17,
     "metadata": {},
     "output_type": "execute_result"
    }
   ],
   "source": [
    "from PIL import Image, ImageOps, ImageEnhance, PILLOW_VERSION \n",
    "from torchvision import transforms as tfs\n",
    "pic = np.expand_dims(data1, axis=-1)\n",
    "if npimg.shape[2] == 1:\n",
    "    pic = pic[:, :, 0]\n",
    "# print(pic.shape)\n",
    "data=(pic, mode='I;16')\n",
    "np.array(data)"
   ]
  },
  {
   "cell_type": "markdown",
   "metadata": {},
   "source": [
    "from PIL import Image, ImageOps, ImageEnhance, PILLOW_VERSION\n",
    "from torchvision import transforms as tfs\n",
    "#扩充通道C,其中C=1,为灰度\"L\"\n",
    "pic = np.expand_dims(data1, axis=-1)\n",
    "#数据格式转为uint8,范围0-255\n",
    "npimg=pic.astype(np.uint8)\n",
    "#转为Tensor\n",
    "im = tfs.ToTensor()(npimg)\n",
    "\n",
    "#转为PIL便于增强操作\n",
    "im= tfs.ToPILImage()(im)\n",
    "#增强操作\n",
    "im = tfs.Resize(size=(60,60))(im)\n",
    "\n",
    "img = tfs.RandomCrop(size=(30,30))(im)\n",
    "\n",
    "其中PIL数据想要查看shape需要转为numpy,在查看shape\n",
    "data=np.array(im).shape"
   ]
  },
  {
   "cell_type": "code",
   "execution_count": 6,
   "metadata": {
    "ExecuteTime": {
     "end_time": "2019-01-12T05:55:10.132676Z",
     "start_time": "2019-01-12T05:55:10.122533Z"
    }
   },
   "outputs": [
    {
     "name": "stdout",
     "output_type": "stream",
     "text": [
      "True\n",
      "torch.Size([1, 62, 63])\n",
      "tensor([[[-741., -697., -629.,  ...,   28.,   40.,   43.],\n",
      "         [-608., -545., -470.,  ...,   42.,   44.,   31.],\n",
      "         [-461., -383., -312.,  ...,   51.,   40.,   31.],\n",
      "         ...,\n",
      "         [  36.,   24.,   22.,  ...,   30.,   16.,    8.],\n",
      "         [  29.,   25.,   16.,  ...,   17.,    3.,    6.],\n",
      "         [  26.,   20.,   15.,  ...,    7.,    1.,   10.]]])\n",
      "(62, 63)\n",
      "torch.Size([1, 60, 60])\n",
      "tensor([[[0.8627, 0.6706, 0.4196,  ..., 0.8863, 0.8510, 0.8392],\n",
      "         [0.3922, 0.2314, 0.7490,  ..., 0.8431, 0.8314, 0.8784],\n",
      "         [0.7059, 0.5020, 0.3647,  ..., 0.8157, 0.8431, 0.8706],\n",
      "         ...,\n",
      "         [0.8706, 0.9059, 0.9176,  ..., 0.8941, 0.9373, 0.9647],\n",
      "         [0.8902, 0.9098, 0.9412,  ..., 0.9294, 0.9804, 0.9804],\n",
      "         [0.9020, 0.9294, 0.9412,  ..., 0.9725, 0.9961, 0.9686]]])\n"
     ]
    }
   ],
   "source": [
    "#double, float, float16, int64, int32, and uint8.\n",
    "pic = np.expand_dims(data1, axis=-1)\n",
    "    \n",
    "# print(pic.shape)\n",
    "# print(pic)\n",
    "# pic = pic/500\n",
    "# print(pic)\n",
    "npimg=pic.astype(np.float32)\n",
    "# print(npimg)\n",
    "# print(type(npimg))\n",
    "# print(pic.dtype)\n",
    "from PIL import Image, ImageOps, ImageEnhance, PILLOW_VERSION\n",
    "from torchvision import transforms as tfs\n",
    "im = tfs.ToTensor()(npimg)\n",
    "print(torch.is_tensor(im))\n",
    "print(im.shape)\n",
    "print(im.data)\n",
    "im= tfs.ToPILImage()(im)\n",
    "print(np.array(im).shape)\n",
    "# print(im.format, im.size, im.mode)\n",
    "im = tfs.Resize(size=(60,60))(im)\n",
    "# img = tfs.RandomCrop(size=(30,30))(im)\n",
    "m = tfs.ToTensor()(im)\n",
    "print(m.shape)\n",
    "print(m.data)"
   ]
  },
  {
   "cell_type": "markdown",
   "metadata": {},
   "source": []
  }
 ],
 "metadata": {
  "kernelspec": {
   "display_name": "Python 3",
   "language": "python",
   "name": "python3"
  },
  "language_info": {
   "codemirror_mode": {
    "name": "ipython",
    "version": 3
   },
   "file_extension": ".py",
   "mimetype": "text/x-python",
   "name": "python",
   "nbconvert_exporter": "python",
   "pygments_lexer": "ipython3",
   "version": "3.7.1"
  }
 },
 "nbformat": 4,
 "nbformat_minor": 2
}
